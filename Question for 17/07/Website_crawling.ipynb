{
  "nbformat": 4,
  "nbformat_minor": 0,
  "metadata": {
    "colab": {
      "provenance": [],
      "authorship_tag": "ABX9TyP3EYSALvhB5KpPnkeJ3oon",
      "include_colab_link": true
    },
    "kernelspec": {
      "name": "python3",
      "display_name": "Python 3"
    },
    "language_info": {
      "name": "python"
    }
  },
  "cells": [
    {
      "cell_type": "markdown",
      "metadata": {
        "id": "view-in-github",
        "colab_type": "text"
      },
      "source": [
        "<a href=\"https://colab.research.google.com/github/SrinivasSistlaKL/DeepLearningsem5/blob/main/Website_crawling.ipynb\" target=\"_parent\"><img src=\"https://colab.research.google.com/assets/colab-badge.svg\" alt=\"Open In Colab\"/></a>"
      ]
    },
    {
      "cell_type": "code",
      "execution_count": 3,
      "metadata": {
        "id": "6-gkLZOGzKO4",
        "colab": {
          "base_uri": "https://localhost:8080/"
        },
        "outputId": "87ffda7c-c762-47f1-e668-46b4fb37ea2a"
      },
      "outputs": [
        {
          "output_type": "stream",
          "name": "stdout",
          "text": [
            "Requirement already satisfied: requests in /usr/local/lib/python3.10/dist-packages (2.31.0)\n",
            "Requirement already satisfied: beautifulsoup4 in /usr/local/lib/python3.10/dist-packages (4.12.3)\n",
            "Requirement already satisfied: charset-normalizer<4,>=2 in /usr/local/lib/python3.10/dist-packages (from requests) (3.3.2)\n",
            "Requirement already satisfied: idna<4,>=2.5 in /usr/local/lib/python3.10/dist-packages (from requests) (3.7)\n",
            "Requirement already satisfied: urllib3<3,>=1.21.1 in /usr/local/lib/python3.10/dist-packages (from requests) (2.0.7)\n",
            "Requirement already satisfied: certifi>=2017.4.17 in /usr/local/lib/python3.10/dist-packages (from requests) (2024.7.4)\n",
            "Requirement already satisfied: soupsieve>1.2 in /usr/local/lib/python3.10/dist-packages (from beautifulsoup4) (2.5)\n"
          ]
        }
      ],
      "source": [
        "!pip install requests beautifulsoup4\n"
      ]
    },
    {
      "cell_type": "code",
      "source": [
        "import requests\n",
        "from bs4 import BeautifulSoup\n"
      ],
      "metadata": {
        "id": "GpkOwvjuU6nm"
      },
      "execution_count": 4,
      "outputs": []
    },
    {
      "cell_type": "code",
      "source": [
        "url = 'https://openreview.net/group?id=ICLR.cc/2024/Conference'\n",
        "response = requests.get(url)\n",
        "response.raise_for_status()\n",
        "soup = BeautifulSoup(response.text, 'html.parser')"
      ],
      "metadata": {
        "id": "NSMwcSY0U92N"
      },
      "execution_count": 5,
      "outputs": []
    },
    {
      "cell_type": "code",
      "source": [
        "\n",
        "print(soup.prettify()[:1000])\n"
      ],
      "metadata": {
        "colab": {
          "base_uri": "https://localhost:8080/"
        },
        "id": "UAH2pMG0VHOE",
        "outputId": "20862d92-0bd5-4de3-97b0-bb03c076421b"
      },
      "execution_count": 6,
      "outputs": [
        {
          "output_type": "stream",
          "name": "stdout",
          "text": [
            "<!DOCTYPE html>\n",
            "<html lang=\"en\">\n",
            " <head>\n",
            "  <meta charset=\"utf-8\"/>\n",
            "  <meta content=\"width=device-width, initial-scale=1\" name=\"viewport\"/>\n",
            "  <link href=\"/favicon.ico\" rel=\"icon\"/>\n",
            "  <link href=\"/manifest.json\" rel=\"manifest\"/>\n",
            "  <meta content=\"https://openreview.net/images/openreview_logo_512.png\" property=\"og:image\"/>\n",
            "  <meta content=\"website\" property=\"og:type\"/>\n",
            "  <meta content=\"OpenReview\" property=\"og:site_name\"/>\n",
            "  <meta content=\"summary\" name=\"twitter:card\"/>\n",
            "  <meta content=\"@openreviewnet\" name=\"twitter:site\"/>\n",
            "  <script async=\"\" src=\"https://www.googletagmanager.com/gtag/js?id=G-GTB25PBMVL\">\n",
            "  </script>\n",
            "  <script>\n",
            "   window.dataLayer = window.dataLayer || [];\n",
            "function gtag() { dataLayer.push(arguments); }\n",
            "gtag('js', new Date());\n",
            "gtag('config', 'G-GTB25PBMVL', {\n",
            "  page_location: location.origin + location.pathname + location.search,\n",
            "});\n",
            "  </script>\n",
            "  <title>\n",
            "   ICLR 2024 Conference | OpenReview\n",
            "  </title>\n",
            "  <meta content=\"Welcome to the OpenReview homepage for ICLR 2024 Confer\n"
          ]
        }
      ]
    },
    {
      "cell_type": "code",
      "source": [
        "def extract_reviews(soup):\n",
        "    reviews = []\n",
        "    for note in soup.find_all('div', class_='note'):\n",
        "        title_tag = note.find('h4', class_='title')\n",
        "        content_tag = note.find('span', class_='note-content-value')\n",
        "        if title_tag and content_tag:\n",
        "            title = title_tag.text.strip()\n",
        "            content = content_tag.text.strip()\n",
        "            reviews.append({'title': title, 'content': content})\n",
        "    return reviews\n",
        "\n",
        "# Extract reviews\n",
        "reviews = extract_reviews(soup)\n"
      ],
      "metadata": {
        "id": "11Y_7zrLVKMc"
      },
      "execution_count": 8,
      "outputs": []
    },
    {
      "cell_type": "code",
      "source": [
        "for review in reviews:\n",
        "    print(f\"Title: {review['title']}\\nContent: {review['content']}\\n\")"
      ],
      "metadata": {
        "id": "AyG-0whtVOGq"
      },
      "execution_count": 9,
      "outputs": []
    }
  ]
}