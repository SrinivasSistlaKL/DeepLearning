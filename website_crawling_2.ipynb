{
  "nbformat": 4,
  "nbformat_minor": 0,
  "metadata": {
    "colab": {
      "provenance": [],
      "authorship_tag": "ABX9TyP87NSO4AzR/r5380n88D2D",
      "include_colab_link": true
    },
    "kernelspec": {
      "name": "python3",
      "display_name": "Python 3"
    },
    "language_info": {
      "name": "python"
    }
  },
  "cells": [
    {
      "cell_type": "markdown",
      "metadata": {
        "id": "view-in-github",
        "colab_type": "text"
      },
      "source": [
        "<a href=\"https://colab.research.google.com/github/SrinivasSistlaKL/DeepLearningsem5/blob/main/website_crawling_2.ipynb\" target=\"_parent\"><img src=\"https://colab.research.google.com/assets/colab-badge.svg\" alt=\"Open In Colab\"/></a>"
      ]
    },
    {
      "cell_type": "code",
      "execution_count": 1,
      "metadata": {
        "colab": {
          "base_uri": "https://localhost:8080/"
        },
        "id": "j-jCCDnMYH1Z",
        "outputId": "206c8e46-5acb-43d7-e66e-f4473f085799"
      },
      "outputs": [
        {
          "output_type": "stream",
          "name": "stdout",
          "text": [
            "Request successful!\n",
            "Response Content (first 1000 characters):\n",
            "<!DOCTYPE html><html lang=\"en\" class=\"dark\"><head><meta charSet=\"utf-8\"/><meta name=\"viewport\" content=\"width=device-width\"/><link rel=\"apple-touch-icon\" type=\"image/png\" sizes=\"180x180\" href=\"https://mintlify.s3-us-west-1.amazonaws.com/brightdata/_generated/favicon/apple-touch-icon.png?v=3\"/><link rel=\"icon\" type=\"image/png\" sizes=\"32x32\" href=\"https://mintlify.s3-us-west-1.amazonaws.com/brightdata/_generated/favicon/favicon-32x32.png?v=3\"/><link rel=\"icon\" type=\"image/png\" sizes=\"16x16\" href=\"https://mintlify.s3-us-west-1.amazonaws.com/brightdata/_generated/favicon/favicon-16x16.png?v=3\"/><link rel=\"shortcut icon\" type=\"image/x-icon\" href=\"https://mintlify.s3-us-west-1.amazonaws.com/brightdata/_generated/favicon/favicon.ico?v=3\"/><meta name=\"msapplication-config\" content=\"https://mintlify.s3-us-west-1.amazonaws.com/brightdata/_generated/favicon/browserconfig.xml?v=3\"/><meta name=\"apple-mobile-web-app-title\" content=\"Bright Data Docs\"/><meta name=\"application-name\" content=\"Bright Dat\n",
            "Page Title: Introduction - Bright Data Docs\n",
            "No papers found.\n"
          ]
        }
      ],
      "source": [
        "import requests\n",
        "from bs4 import BeautifulSoup\n",
        "\n",
        "# URL of the OpenReview page for ICLR 2024\n",
        "url = \"https://docs.brightdata.com/proxy-networks/data-center/introduction\"\n",
        "\n",
        "# Send a request to the URL\n",
        "response = requests.get(url)\n",
        "\n",
        "# Check if the request was successful\n",
        "if response.status_code == 200:\n",
        "    print(\"Request successful!\")\n",
        "    print(\"Response Content (first 1000 characters):\")\n",
        "    print(response.content[:1000].decode('utf-8'))  # Print the first 1000 characters of the response content to inspect\n",
        "\n",
        "    # Parse the page content\n",
        "    soup = BeautifulSoup(response.content, 'html.parser')\n",
        "\n",
        "    # Print the title of the page to ensure we have the correct content\n",
        "    print(\"Page Title:\", soup.title.string)\n",
        "\n",
        "    # Find all the reviews or papers (this will depend on the page structure)\n",
        "    # Adjust based on the actual HTML structure\n",
        "    papers = soup.find_all('li', class_='note')  # Adjust the selector to match the actual HTML structure\n",
        "\n",
        "    # Check if any papers were found\n",
        "    if papers:\n",
        "        print(f\"Found {len(papers)} papers.\")\n",
        "        # Iterate over each paper and extract relevant data\n",
        "        for paper in papers:\n",
        "            title = paper.find('h4')  # Adjust the tag and class as needed\n",
        "            authors = paper.find('div', class_='note-authors')  # Adjust the tag and class as needed\n",
        "            abstract = paper.find('span', class_='note-abstract')  # Adjust the tag and class as needed\n",
        "\n",
        "            # Ensure elements are not None before accessing their text\n",
        "            if title and authors and abstract:\n",
        "                print(f\"Title: {title.text.strip()}\")\n",
        "                print(f\"Authors: {authors.text.strip()}\")\n",
        "                print(f\"Abstract: {abstract.text.strip()}\")\n",
        "                print(\"-\" * 80)\n",
        "            else:\n",
        "                print(\"Some elements are missing in this paper.\")\n",
        "    else:\n",
        "        print(\"No papers found.\")\n",
        "else:\n",
        "    print(f\"Failed to retrieve the page. Status code: {response.status_code}\")"
      ]
    }
  ]
}